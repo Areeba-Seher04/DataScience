{
 "cells": [
  {
   "cell_type": "markdown",
   "metadata": {},
   "source": [
    "## Linear Regression\n",
    "Here we can do linear regression by applying the squared (or absolute) trick at every point in our data all at the same time, and repeating this process many times.\n",
    "$$\n",
    "y = (w1 + p*(q-q`)*alpha)x + (w2 + 1*(q-q`)*alpha)\n",
    "$$\n",
    "\n",
    "or \n",
    "$$\n",
    "y = (w1 + p*error*alpha)x + (w2 + 1*error*alpha)\n",
    "$$\n",
    "\n",
    "from equation we can see that for best fit line we have to add p times error times alpha in slope and 1 times error times alpha in y_intercept or in other words we are updating our slope and intercept by adding these values\n",
    "after updating slope and intercept our line moves , means value of q-q' changes so we also have to change this value in our formula every time"
   ]
  },
  {
   "cell_type": "code",
   "execution_count": 18,
   "metadata": {},
   "outputs": [
    {
     "data": {
      "text/html": [
       "<img src=\"LR_steps.jpeg\">\n"
      ],
      "text/plain": [
       "<IPython.core.display.HTML object>"
      ]
     },
     "metadata": {},
     "output_type": "display_data"
    }
   ],
   "source": [
    "%%HTML\n",
    "<img src=\"LR_steps.jpeg\">"
   ]
  },
  {
   "cell_type": "code",
   "execution_count": 2,
   "metadata": {},
   "outputs": [],
   "source": [
    "import numpy as np\n",
    "import matplotlib.pyplot as plt\n",
    "import pandas as pd"
   ]
  },
  {
   "cell_type": "code",
   "execution_count": 3,
   "metadata": {},
   "outputs": [],
   "source": [
    "data = np.loadtxt('data.csv', delimiter = ',')"
   ]
  },
  {
   "cell_type": "code",
   "execution_count": 4,
   "metadata": {},
   "outputs": [
    {
     "data": {
      "text/html": [
       "<div>\n",
       "<style scoped>\n",
       "    .dataframe tbody tr th:only-of-type {\n",
       "        vertical-align: middle;\n",
       "    }\n",
       "\n",
       "    .dataframe tbody tr th {\n",
       "        vertical-align: top;\n",
       "    }\n",
       "\n",
       "    .dataframe thead th {\n",
       "        text-align: right;\n",
       "    }\n",
       "</style>\n",
       "<table border=\"1\" class=\"dataframe\">\n",
       "  <thead>\n",
       "    <tr style=\"text-align: right;\">\n",
       "      <th></th>\n",
       "      <th>x</th>\n",
       "      <th>y</th>\n",
       "    </tr>\n",
       "  </thead>\n",
       "  <tbody>\n",
       "    <tr>\n",
       "      <th>0</th>\n",
       "      <td>-0.72407</td>\n",
       "      <td>2.23863</td>\n",
       "    </tr>\n",
       "    <tr>\n",
       "      <th>1</th>\n",
       "      <td>-2.40724</td>\n",
       "      <td>-0.00156</td>\n",
       "    </tr>\n",
       "    <tr>\n",
       "      <th>2</th>\n",
       "      <td>2.64837</td>\n",
       "      <td>3.01665</td>\n",
       "    </tr>\n",
       "    <tr>\n",
       "      <th>3</th>\n",
       "      <td>0.36092</td>\n",
       "      <td>2.31019</td>\n",
       "    </tr>\n",
       "    <tr>\n",
       "      <th>4</th>\n",
       "      <td>0.67312</td>\n",
       "      <td>2.05950</td>\n",
       "    </tr>\n",
       "    <tr>\n",
       "      <th>...</th>\n",
       "      <td>...</td>\n",
       "      <td>...</td>\n",
       "    </tr>\n",
       "    <tr>\n",
       "      <th>95</th>\n",
       "      <td>-0.92159</td>\n",
       "      <td>1.21538</td>\n",
       "    </tr>\n",
       "    <tr>\n",
       "      <th>96</th>\n",
       "      <td>0.76953</td>\n",
       "      <td>2.39377</td>\n",
       "    </tr>\n",
       "    <tr>\n",
       "      <th>97</th>\n",
       "      <td>0.03283</td>\n",
       "      <td>1.55730</td>\n",
       "    </tr>\n",
       "    <tr>\n",
       "      <th>98</th>\n",
       "      <td>-1.07619</td>\n",
       "      <td>0.70874</td>\n",
       "    </tr>\n",
       "    <tr>\n",
       "      <th>99</th>\n",
       "      <td>0.20174</td>\n",
       "      <td>1.76894</td>\n",
       "    </tr>\n",
       "  </tbody>\n",
       "</table>\n",
       "<p>100 rows × 2 columns</p>\n",
       "</div>"
      ],
      "text/plain": [
       "          x        y\n",
       "0  -0.72407  2.23863\n",
       "1  -2.40724 -0.00156\n",
       "2   2.64837  3.01665\n",
       "3   0.36092  2.31019\n",
       "4   0.67312  2.05950\n",
       "..      ...      ...\n",
       "95 -0.92159  1.21538\n",
       "96  0.76953  2.39377\n",
       "97  0.03283  1.55730\n",
       "98 -1.07619  0.70874\n",
       "99  0.20174  1.76894\n",
       "\n",
       "[100 rows x 2 columns]"
      ]
     },
     "execution_count": 4,
     "metadata": {},
     "output_type": "execute_result"
    }
   ],
   "source": [
    "x = data[:,:-1]\n",
    "y = data[:,-1]\n",
    "\n",
    "#showing data in pandas\n",
    "df = pd.DataFrame(columns=['x','y'])\n",
    "t=[]\n",
    "for i in range(0,len(x)):\n",
    "    t.append(x[i][0])\n",
    "df['y'] = y\n",
    "df['x'] = t\n",
    "df"
   ]
  },
  {
   "cell_type": "code",
   "execution_count": 5,
   "metadata": {},
   "outputs": [
    {
     "data": {
      "text/plain": [
       "[<matplotlib.lines.Line2D at 0x1eae7d31848>]"
      ]
     },
     "execution_count": 5,
     "metadata": {},
     "output_type": "execute_result"
    },
    {
     "data": {
      "image/png": "[encoded data removed]",
      "text/plain": [
       "<Figure size 432x288 with 1 Axes>"
      ]
     },
     "metadata": {
      "needs_background": "light"
     },
     "output_type": "display_data"
    }
   ],
   "source": [
    "plt.plot(x,y,'o', color='black')"
   ]
  },
  {
   "cell_type": "code",
   "execution_count": 6,
   "metadata": {},
   "outputs": [],
   "source": [
    "#y = (w1 + p*(q-q`)*alpha)x + (w2 + 1*(q-q`)*alpha)\n",
    "''' start initially with w_1 = 0 and w_2 = 0 and generate a line'''\n",
    "y_pred = []\n",
    "w_1 = 0\n",
    "w_2 = 0\n",
    "for i in range(0,len(x)):\n",
    "    y_pred.append((w_1*x[i][0])+w_2)"
   ]
  },
  {
   "cell_type": "code",
   "execution_count": 7,
   "metadata": {},
   "outputs": [
    {
     "data": {
      "text/html": [
       "<div>\n",
       "<style scoped>\n",
       "    .dataframe tbody tr th:only-of-type {\n",
       "        vertical-align: middle;\n",
       "    }\n",
       "\n",
       "    .dataframe tbody tr th {\n",
       "        vertical-align: top;\n",
       "    }\n",
       "\n",
       "    .dataframe thead th {\n",
       "        text-align: right;\n",
       "    }\n",
       "</style>\n",
       "<table border=\"1\" class=\"dataframe\">\n",
       "  <thead>\n",
       "    <tr style=\"text-align: right;\">\n",
       "      <th></th>\n",
       "      <th>x</th>\n",
       "      <th>y</th>\n",
       "      <th>y_pred when w_1 and w_2 are 0</th>\n",
       "    </tr>\n",
       "  </thead>\n",
       "  <tbody>\n",
       "    <tr>\n",
       "      <th>0</th>\n",
       "      <td>-0.72407</td>\n",
       "      <td>2.23863</td>\n",
       "      <td>0.0</td>\n",
       "    </tr>\n",
       "    <tr>\n",
       "      <th>1</th>\n",
       "      <td>-2.40724</td>\n",
       "      <td>-0.00156</td>\n",
       "      <td>0.0</td>\n",
       "    </tr>\n",
       "    <tr>\n",
       "      <th>2</th>\n",
       "      <td>2.64837</td>\n",
       "      <td>3.01665</td>\n",
       "      <td>0.0</td>\n",
       "    </tr>\n",
       "    <tr>\n",
       "      <th>3</th>\n",
       "      <td>0.36092</td>\n",
       "      <td>2.31019</td>\n",
       "      <td>0.0</td>\n",
       "    </tr>\n",
       "    <tr>\n",
       "      <th>4</th>\n",
       "      <td>0.67312</td>\n",
       "      <td>2.05950</td>\n",
       "      <td>0.0</td>\n",
       "    </tr>\n",
       "    <tr>\n",
       "      <th>...</th>\n",
       "      <td>...</td>\n",
       "      <td>...</td>\n",
       "      <td>...</td>\n",
       "    </tr>\n",
       "    <tr>\n",
       "      <th>95</th>\n",
       "      <td>-0.92159</td>\n",
       "      <td>1.21538</td>\n",
       "      <td>0.0</td>\n",
       "    </tr>\n",
       "    <tr>\n",
       "      <th>96</th>\n",
       "      <td>0.76953</td>\n",
       "      <td>2.39377</td>\n",
       "      <td>0.0</td>\n",
       "    </tr>\n",
       "    <tr>\n",
       "      <th>97</th>\n",
       "      <td>0.03283</td>\n",
       "      <td>1.55730</td>\n",
       "      <td>0.0</td>\n",
       "    </tr>\n",
       "    <tr>\n",
       "      <th>98</th>\n",
       "      <td>-1.07619</td>\n",
       "      <td>0.70874</td>\n",
       "      <td>0.0</td>\n",
       "    </tr>\n",
       "    <tr>\n",
       "      <th>99</th>\n",
       "      <td>0.20174</td>\n",
       "      <td>1.76894</td>\n",
       "      <td>0.0</td>\n",
       "    </tr>\n",
       "  </tbody>\n",
       "</table>\n",
       "<p>100 rows × 3 columns</p>\n",
       "</div>"
      ],
      "text/plain": [
       "          x        y  y_pred when w_1 and w_2 are 0\n",
       "0  -0.72407  2.23863                            0.0\n",
       "1  -2.40724 -0.00156                            0.0\n",
       "2   2.64837  3.01665                            0.0\n",
       "3   0.36092  2.31019                            0.0\n",
       "4   0.67312  2.05950                            0.0\n",
       "..      ...      ...                            ...\n",
       "95 -0.92159  1.21538                            0.0\n",
       "96  0.76953  2.39377                            0.0\n",
       "97  0.03283  1.55730                            0.0\n",
       "98 -1.07619  0.70874                            0.0\n",
       "99  0.20174  1.76894                            0.0\n",
       "\n",
       "[100 rows x 3 columns]"
      ]
     },
     "execution_count": 7,
     "metadata": {},
     "output_type": "execute_result"
    }
   ],
   "source": [
    "df['y_pred when w_1 and w_2 are 0'] = y_pred\n",
    "df"
   ]
  },
  {
   "cell_type": "code",
   "execution_count": 8,
   "metadata": {},
   "outputs": [
    {
     "data": {
      "text/plain": [
       "[<matplotlib.lines.Line2D at 0x1eae5c60688>]"
      ]
     },
     "execution_count": 8,
     "metadata": {},
     "output_type": "execute_result"
    },
    {
     "data": {
      "image/png": "[encoded data removed]",
      "text/plain": [
       "<Figure size 432x288 with 1 Axes>"
      ]
     },
     "metadata": {
      "needs_background": "light"
     },
     "output_type": "display_data"
    }
   ],
   "source": [
    "plt.plot(x,y,'o', color='black')\n",
    "plt.plot(x,y_pred)"
   ]
  },
  {
   "cell_type": "code",
   "execution_count": 9,
   "metadata": {},
   "outputs": [
    {
     "name": "stdout",
     "output_type": "stream",
     "text": [
      "Sum of mean square Error 4.2541289696539994\n"
     ]
    }
   ],
   "source": [
    "'''Error/(q-q') between line and points '''\n",
    "error_when_w_and_b_are_zero = []\n",
    "for i in range(0,len(y)):\n",
    "    error_when_w_and_b_are_zero.append(y[i] - y_pred[i])\n",
    "print(\"Sum of mean square Error\",sum([i**2 for i in error_when_w_and_b_are_zero])/len(error_when_w_and_b_are_zero))\n",
    "\n"
   ]
  },
  {
   "cell_type": "markdown",
   "metadata": {},
   "source": [
    "### We have to move this line many times until it becomes best (min error), now we will move this line using loop"
   ]
  },
  {
   "cell_type": "code",
   "execution_count": 10,
   "metadata": {},
   "outputs": [],
   "source": [
    "'''this function will move the line using new w_1 and w_2 and calculate the error between new_line and points '''\n",
    "def error_list(w_1,w_2):\n",
    "    #y_pred = w_1 * x + w_2\n",
    "    y_pred = []\n",
    "    for i in range(0,len(x)):\n",
    "        y_pred.append((w_1*x[i][0])+w_2)\n",
    "    # error = y - y_pred\n",
    "    error = []\n",
    "    for j in range(0,len(x)):\n",
    "        error.append(y[j] - y_pred[j])\n",
    "    return error"
   ]
  },
  {
   "cell_type": "code",
   "execution_count": 11,
   "metadata": {},
   "outputs": [],
   "source": [
    "#w_1_new = w_1_old + (y-y_pred) * p * learnung_rate  \n",
    "#w_2_new = w_2_old + (y-y_pred) * alpha\n",
    "'''updating w_1 and w_2'''\n",
    "\n",
    "def update(iterate):\n",
    "    w_1 = 0\n",
    "    w_2 = 0\n",
    "    plt.plot(x,y,'o', color='black')\n",
    "    for i in range(0,iterate): # i am moving line 50times , you can change it\n",
    "        errors = error_list(w_1,w_2)  # as w1 and w2 are changing it means that line is also moving so we have to calculate new q-q' w.r.t to new line\n",
    "#         print(errors)\n",
    "        # add (q-q') * x * learning rate in w1\n",
    "        w_1 += np.matmul(errors,t) * 0.005   #t=x #matmul ---> multiply array element by element and then add it\n",
    "        # add q-q' * learning_rate in w2\n",
    "        w_2 += sum(errors)* 0.005\n",
    "        print(\"sum of squared_error\", sum([i**2 for i in errors])/len(errors))\n",
    "    # plotting graph with are slope and intercept\n",
    "    y_pred = []\n",
    "    for i in range (0,len(y)):\n",
    "         y_pred.append((w_1 * x[i][0] ) + w_2)\n",
    "    plt.plot(x,y_pred)   \n"
   ]
  },
  {
   "cell_type": "code",
   "execution_count": 12,
   "metadata": {},
   "outputs": [
    {
     "name": "stdout",
     "output_type": "stream",
     "text": [
      "sum of squared_error 4.2541289696539994\n",
      "sum of squared_error 1.3282785028616737\n",
      "sum of squared_error 0.554769335668366\n",
      "sum of squared_error 0.3493658314749271\n",
      "sum of squared_error 0.2946928182907804\n",
      "sum of squared_error 0.28012221157585887\n",
      "sum of squared_error 0.27623654060342934\n",
      "sum of squared_error 0.27519995910366146\n",
      "sum of squared_error 0.27492338016298606\n",
      "sum of squared_error 0.2748495768591341\n",
      "sum of squared_error 0.27482988194803337\n",
      "sum of squared_error 0.27482462609109093\n",
      "sum of squared_error 0.2748232234745137\n",
      "sum of squared_error 0.274822849159278\n",
      "sum of squared_error 0.27482274926567707\n",
      "sum of squared_error 0.27482272260699403\n",
      "sum of squared_error 0.27482271549256326\n",
      "sum of squared_error 0.27482271359392674\n",
      "sum of squared_error 0.27482271308723516\n",
      "sum of squared_error 0.2748227129520136\n",
      "sum of squared_error 0.27482271291592697\n",
      "sum of squared_error 0.27482271290629645\n",
      "sum of squared_error 0.2748227129037264\n",
      "sum of squared_error 0.2748227129030405\n",
      "sum of squared_error 0.2748227129028574\n",
      "sum of squared_error 0.27482271290280846\n",
      "sum of squared_error 0.2748227129027956\n",
      "sum of squared_error 0.2748227129027922\n",
      "sum of squared_error 0.27482271290279114\n",
      "sum of squared_error 0.27482271290279103\n",
      "sum of squared_error 0.2748227129027908\n",
      "sum of squared_error 0.27482271290279076\n",
      "sum of squared_error 0.2748227129027908\n",
      "sum of squared_error 0.27482271290279087\n",
      "sum of squared_error 0.27482271290279087\n",
      "sum of squared_error 0.2748227129027908\n",
      "sum of squared_error 0.27482271290279064\n",
      "sum of squared_error 0.2748227129027907\n",
      "sum of squared_error 0.2748227129027907\n",
      "sum of squared_error 0.2748227129027907\n",
      "sum of squared_error 0.2748227129027907\n",
      "sum of squared_error 0.27482271290279076\n",
      "sum of squared_error 0.2748227129027908\n",
      "sum of squared_error 0.2748227129027908\n",
      "sum of squared_error 0.2748227129027908\n",
      "sum of squared_error 0.2748227129027909\n",
      "sum of squared_error 0.2748227129027908\n",
      "sum of squared_error 0.2748227129027907\n",
      "sum of squared_error 0.27482271290279087\n",
      "sum of squared_error 0.27482271290279076\n"
     ]
    },
    {
     "data": {
      "image/png": "[encoded data removed]",
      "text/plain": [
       "<Figure size 432x288 with 1 Axes>"
      ]
     },
     "metadata": {
      "needs_background": "light"
     },
     "output_type": "display_data"
    }
   ],
   "source": [
    "update(50)"
   ]
  },
  {
   "cell_type": "code",
   "execution_count": 15,
   "metadata": {},
   "outputs": [],
   "source": [
    "'''In 7 iterations this is how our line became best fitted'''\n",
    "'''\n",
    "STEPS\n",
    "    Draw a line using w1 * x + w2 by putting w1 and w2  = 0\n",
    "    plot it\n",
    "    calculate error between line and points\n",
    "    update w1 and w2\n",
    "    repeat the process\n",
    "'''\n",
    "def update2(iterate):\n",
    "    w_1 = 0\n",
    "    w_2 = 0\n",
    "    plt.plot(x,y,'o', color='black')\n",
    "    for i in range(0,iterate): # i am moving line 100 times , you can change it\n",
    "        y_pred = [((w_1 * x[i][0] ) + w_2) for i in range(0,100)] \n",
    "        plt.plot(x,y_pred)\n",
    "        errors = error_list(w_1,w_2)  # as w1 and w2 are changing it means that line is also moving so we have to calculate new q-q' w.r.t to new line\n",
    "        #rint(errors)\n",
    "        print(\"sum of squared_error\", sum([i**2 for i in errors])/len(errors))\n",
    "        # add (q-q') * x * learning rate in w1\n",
    "        w_1 += np.matmul(errors,t) * 0.005   #t=x\n",
    "        # add q-q' * learning_rate in w2\n",
    "        w_2 += sum(errors)* 0.005\n",
    "         \n",
    "\n"
   ]
  },
  {
   "cell_type": "code",
   "execution_count": 16,
   "metadata": {},
   "outputs": [
    {
     "name": "stdout",
     "output_type": "stream",
     "text": [
      "sum of squared_error 4.2541289696539994\n",
      "sum of squared_error 1.3282785028616737\n",
      "sum of squared_error 0.554769335668366\n",
      "sum of squared_error 0.3493658314749271\n",
      "sum of squared_error 0.2946928182907804\n",
      "sum of squared_error 0.28012221157585887\n",
      "sum of squared_error 0.27623654060342934\n"
     ]
    },
    {
     "data": {
      "image/png": "[encoded data removed]",
      "text/plain": [
       "<Figure size 432x288 with 1 Axes>"
      ]
     },
     "metadata": {
      "needs_background": "light"
     },
     "output_type": "display_data"
    }
   ],
   "source": [
    "update2(7)"
   ]
  },
  {
   "cell_type": "code",
   "execution_count": null,
   "metadata": {},
   "outputs": [],
   "source": []
  },
  {
   "cell_type": "code",
   "execution_count": null,
   "metadata": {},
   "outputs": [],
   "source": []
  },
  {
   "cell_type": "code",
   "execution_count": null,
   "metadata": {},
   "outputs": [],
   "source": []
  }
 ],
 "metadata": {
  "kernelspec": {
   "display_name": "Python 3",
   "language": "python",
   "name": "python3"
  },
  "language_info": {
   "codemirror_mode": {
    "name": "ipython",
    "version": 3
   },
   "file_extension": ".py",
   "mimetype": "text/x-python",
   "name": "python",
   "nbconvert_exporter": "python",
   "pygments_lexer": "ipython3",
   "version": "3.7.6"
  }
 },
 "nbformat": 4,
 "nbformat_minor": 4
}
