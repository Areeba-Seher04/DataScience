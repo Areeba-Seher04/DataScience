{
 "cells": [
  {
   "cell_type": "markdown",
   "metadata": {},
   "source": [
    "Let's take same data and apply linear regression and polynomial regression.\n",
    "Suppose we have a model with one feature X and one target Y.\n",
    "\n"
   ]
  },
  {
   "cell_type": "markdown",
   "metadata": {},
   "source": [
    "##### LINEAR REGRESSION\n",
    "Here we are fitting a best line using **LINEAR REGRESSION**\n",
    ".\n",
    "<img src=\"L_R.PNG\">\n",
    "\n",
    "We can see that it is much simpler."
   ]
  },
  {
   "cell_type": "markdown",
   "metadata": {},
   "source": [
    "##### POLYNOMIAL REGRESSION\n",
    "Here we are fitting a curve using **14th degree**\n",
    "<img src=\"PR.PNG\">\n",
    "\n",
    "We can see that it is more complicated than previous one but here **error is minumum** than previous one because all points are very closed to the curve (the error between curve and points are minumum). It is nearly noise free model.\n"
   ]
  },
  {
   "cell_type": "markdown",
   "metadata": {},
   "source": [
    "## WHICH ONE IS BETTER?"
   ]
  },
  {
   "cell_type": "markdown",
   "metadata": {},
   "source": [
    "#### No. 2? as error is minumum here... OR\n",
    "#### No. 1? But it has large error than No. 2\n",
    "\n",
    "Let's understand this with an example:\n",
    " \n",
    "You are training your model using 2ND ONE and You observed that it has minumum error and You're very happy and your model accuracy on training data is 90%.. \n",
    "then \n",
    "You are training your model using 1ST ONE and You observed that it has more error than 1st one So you decided to pick 2ND MODEL\n",
    "But..........\n",
    "\n",
    "Now you want to predict some unseen data(the data your model never seen before) using your chosen model(2ND ONE) and now YOU'RE SHOCKED because the results are very bad and accuracy is 40%.... You're very confused. The model which were 90% accurate, now given you only 40% accuracy.\n",
    "\n",
    "### NOTE:\n",
    "````\n",
    "THE REAL TEST OF THE PREDICTOR IS NOT HOW WELL IT PREDICTED THE DATA THAT IT SAW WHEN IT TRAINED BUT HOW WELL IT DOES IN FUTURE ONCE YOU DEPLOYED IT ON A NEW SYSTEM( MEANS HOW WELL IT PREDICTED UNSEEN DATA AFTER DEPLOYMENT)\n",
    "````\n",
    "\n",
    "Now you trained your model using 1ST ONE , the model accuracy on training data is 80% and you want to predict some unseen data now you observed that accuracy of your model on unseen data is 70%.\n",
    "\n",
    "```\n",
    "Now i think You should use 1ST MODEL as it is predicting well on unseen data.\n",
    "```"
   ]
  },
  {
   "cell_type": "markdown",
   "metadata": {},
   "source": [
    "## Question?\n",
    "#### Why model one is predicting good although it has a large error than 2nd one?\n",
    "\n",
    "1. BLACK points = our training data\n",
    "2. BLUE line/curve = best fitted line/curve\n",
    "3. RED points = unseen data\n"
   ]
  },
  {
   "cell_type": "markdown",
   "metadata": {},
   "source": [
    "<img src=\"LR_NEW.jpg\" style=\"width:50%;float:left;\"> <img src=\"PR_NEW.jpg\" style=\"width:50%;float:right;\">"
   ]
  },
  {
   "cell_type": "markdown",
   "metadata": {},
   "source": [
    "#### MODEL 1:\n",
    "Here line is reasonable according to new points.\n",
    "    \n",
    "#### MODEL 2:\n",
    "Here curve is not reasonale according to new points as it overfits and it just dont generalize well.\n",
    "    \n",
    "Actually in polynomial regression we can choose different degrees and every degree gives us different curve. As you increased\n",
    "your degree your curve wants to touch all the data which it see during training(it is called overfitting ) and error will be low on training data but it will be fail on unseen data\n",
    "    \n",
    "```\n",
    "Overfitting is suspect when the model accuracy is high with respect to the data used in training the model but drops significantly with new data. Effectively the model knows the training data well but does not generalize. This makes the model useless for purposes such as prediction.\n",
    "```\n",
    "\n",
    "`\n",
    "You might think that complex problems require complex models, but many studies show that simpler models generally produce more precise predictions. Given several models with similar explanatory ability, the simplest is most likely to be the best choice. Start simple, and only make the model more complex as needed. The more complex you make your model, the more likely it is that you are tailoring the model to your dataset specifically, and generalizability suffers.\n",
    "`\n",
    "source: https://blog.minitab.com/blog/how-to-choose-the-best-regression-model"
   ]
  },
  {
   "cell_type": "markdown",
   "metadata": {},
   "source": [
    "<img src=\"PR_deg3.PNG\" style=\"width:50%;float:left;\"><img src=\"PR_deg6.PNG\" style=\"width:50%;float:right;\"><img src=\"PR_deg20.PNG\" style=\"width:50%;float:left;\">"
   ]
  },
  {
   "cell_type": "markdown",
   "metadata": {},
   "source": [
    "#### This is where REGULARIZATION comes in.Regularization i a very useful technique to improve our models and make sure that they don't overfit"
   ]
  },
  {
   "cell_type": "markdown",
   "metadata": {},
   "source": [
    "### It is a small app that you can use to play with different polynomial degrees \n",
    "http://madrury.github.io/smoothers/"
   ]
  },
  {
   "cell_type": "markdown",
   "metadata": {},
   "source": [
    "### HELPFUL ARTICLE:\n",
    "https://towardsdatascience.com/polynomial-regression-bbe8b9d97491  "
   ]
  },
  {
   "cell_type": "markdown",
   "metadata": {},
   "source": []
  },
  {
   "cell_type": "code",
   "execution_count": null,
   "metadata": {},
   "outputs": [],
   "source": []
  }
 ],
 "metadata": {
  "kernelspec": {
   "display_name": "Python 3",
   "language": "python",
   "name": "python3"
  },
  "language_info": {
   "codemirror_mode": {
    "name": "ipython",
    "version": 3
   },
   "file_extension": ".py",
   "mimetype": "text/x-python",
   "name": "python",
   "nbconvert_exporter": "python",
   "pygments_lexer": "ipython3",
   "version": "3.7.6"
  }
 },
 "nbformat": 4,
 "nbformat_minor": 4
}
