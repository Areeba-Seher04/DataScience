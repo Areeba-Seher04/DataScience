{
 "cells": [
  {
   "cell_type": "markdown",
   "metadata": {},
   "source": [
    "## Regularization\n",
    "```\n",
    "It is a very useful technique to improve our models and make sure that they dont overfit\n",
    "```\n",
    "#### It is a concept that works for both **REGRESSION** and **CLASSIFICATION** \n",
    "\n",
    "<img src=\"img1.PNG\">\n"
   ]
  },
  {
   "cell_type": "markdown",
   "metadata": {},
   "source": [
    "#### Just take an example of CLASSIFICATION problem but all arguments here work with REGRESSION as well\n",
    "<img src=\"img2.PNG\">"
   ]
  },
  {
   "cell_type": "markdown",
   "metadata": {},
   "source": [
    "<h3>WHICH ONE IS BETTER( line(left one) or higher degree polynomial(right one)) ?</h3>\n",
    "<table>\n",
    "  <tr>\n",
    "    <th>LINE</th>\n",
    "    <th>HIGHER DEGREE POLYNOMIAL</th>\n",
    "  </tr>\n",
    "  <tr>\n",
    "    <td>Two points are making mistakes but it is much simpler</td>\n",
    "     <td>Zero mistakes but it is actually a bit more complicated</td>\n",
    "  </tr>\n",
    "</table>\n"
   ]
  },
  {
   "cell_type": "code",
   "execution_count": 5,
   "metadata": {},
   "outputs": [],
   "source": [
    "# https://blog.minitab.com/blog/how-to-choose-the-best-regression-model"
   ]
  },
  {
   "cell_type": "code",
   "execution_count": null,
   "metadata": {},
   "outputs": [],
   "source": []
  }
 ],
 "metadata": {
  "kernelspec": {
   "display_name": "Python 3",
   "language": "python",
   "name": "python3"
  },
  "language_info": {
   "codemirror_mode": {
    "name": "ipython",
    "version": 3
   },
   "file_extension": ".py",
   "mimetype": "text/x-python",
   "name": "python",
   "nbconvert_exporter": "python",
   "pygments_lexer": "ipython3",
   "version": "3.7.6"
  }
 },
 "nbformat": 4,
 "nbformat_minor": 4
}
